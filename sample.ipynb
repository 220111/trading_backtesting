{
 "cells": [
  {
   "metadata": {},
   "cell_type": "markdown",
   "source": [
    "# This is a sample Jupyter Notebook\n",
    "\n",
    "Below is an example of a code cell. \n",
    "Put your cursor into the cell and press Shift+Enter to execute it and select the next one, or click 'Run Cell' button.\n",
    "\n",
    "Press Double Shift to search everywhere for classes, files, tool windows, actions, and settings.\n",
    "\n",
    "To learn more about Jupyter Notebooks in PyCharm, see [help](https://www.jetbrains.com/help/pycharm/ipython-notebook-support.html).\n",
    "For an overview of PyCharm, go to Help -> Learn IDE features or refer to [our documentation](https://www.jetbrains.com/help/pycharm/getting-started.html)."
   ],
   "id": "8a77807f92f26ee"
  },
  {
   "metadata": {
    "ExecuteTime": {
     "end_time": "2024-09-07T02:49:52.449171Z",
     "start_time": "2024-09-07T02:49:52.416406Z"
    }
   },
   "cell_type": "code",
   "source": [
    "import vectorbt as vbt\n",
    "import numpy as np\n",
    "import pandas as pd\n",
    "\n",
    "symbols = [\"SPY\", \"INTL\", \"SBUX\", \"AMD\", \"AAPL\"]\n",
    "data = vbt.YFData.download(\n",
    "        \"SPY\",\n",
    "        missing_index='drop',\n",
    "        missing_columns='drop',\n",
    "        start='2021-08-31 09:30:00 -0400',\n",
    "        end='2024-08-31 09:30:00 -0400',\n",
    "    )\n",
    "prices = data.get(['High', 'Low', 'Close'])\n",
    "price = data.get('Close')\n",
    "\n",
    "pf = vbt.Portfolio.from_holding(price, init_cash=100)\n",
    "held = pf.total_profit()\n",
    "held\n"
   ],
   "id": "fbc121e30a2defb3",
   "outputs": [
    {
     "data": {
      "text/plain": [
       "30.47151638248519"
      ]
     },
     "execution_count": 457,
     "metadata": {},
     "output_type": "execute_result"
    }
   ],
   "execution_count": 457
  },
  {
   "metadata": {
    "ExecuteTime": {
     "end_time": "2024-09-07T02:49:52.517772Z",
     "start_time": "2024-09-07T02:49:52.461181Z"
    }
   },
   "cell_type": "code",
   "source": "data.plot('Close')",
   "id": "e4b9846e2646a6b0",
   "outputs": [
    {
     "data": {
      "application/vnd.jupyter.widget-view+json": {
       "version_major": 2,
       "version_minor": 0,
       "model_id": "f605adf2abf64f079ca24a2a038d6f10"
      },
      "text/plain": [
       "FigureWidget({\n",
       "    'data': [{'name': 'Close',\n",
       "              'showlegend': True,\n",
       "              'type': 'scatter',\n",
       "              'uid': '358f9122-b174-4f7a-8a23-2256ec0a18d6',\n",
       "              'x': array([datetime.datetime(2021, 8, 31, 4, 0, tzinfo=datetime.timezone.utc),\n",
       "                          datetime.datetime(2021, 9, 1, 4, 0, tzinfo=datetime.timezone.utc),\n",
       "                          datetime.datetime(2021, 9, 2, 4, 0, tzinfo=datetime.timezone.utc), ...,\n",
       "                          datetime.datetime(2024, 8, 28, 4, 0, tzinfo=datetime.timezone.utc),\n",
       "                          datetime.datetime(2024, 8, 29, 4, 0, tzinfo=datetime.timezone.utc),\n",
       "                          datetime.datetime(2024, 8, 30, 4, 0, tzinfo=datetime.timezone.utc)],\n",
       "                         dtype=object),\n",
       "              'y': array([432.0329895 , 432.26260376, 433.59259033, ..., 558.29998779,\n",
       "                          558.34997559, 563.67999268])}],\n",
       "    'layout': {'height': 350,\n",
       "               'legend': {'orientation': 'h',\n",
       "                          'traceorder': 'normal',\n",
       "                          'x': 1,\n",
       "                          'xanchor': 'right',\n",
       "                          'y': 1.02,\n",
       "                          'yanchor': 'bottom'},\n",
       "               'margin': {'b': 30, 'l': 30, 'r': 30, 't': 30},\n",
       "               'template': '...',\n",
       "               'width': 700}\n",
       "})"
      ]
     },
     "execution_count": 458,
     "metadata": {},
     "output_type": "execute_result"
    }
   ],
   "execution_count": 458
  },
  {
   "metadata": {
    "ExecuteTime": {
     "end_time": "2024-09-07T02:49:52.648486Z",
     "start_time": "2024-09-07T02:49:52.583184Z"
    }
   },
   "cell_type": "code",
   "source": "vbt.RSI.run(price, 30).plot()",
   "id": "6a11a4821af30077",
   "outputs": [
    {
     "data": {
      "application/vnd.jupyter.widget-view+json": {
       "version_major": 2,
       "version_minor": 0,
       "model_id": "f25a078d1f5c49779d579643cd0d81b5"
      },
      "text/plain": [
       "FigureWidget({\n",
       "    'data': [{'name': 'RSI',\n",
       "              'showlegend': True,\n",
       "              'type': 'scatter',\n",
       "              'uid': 'eac1f8a3-0727-4309-9506-9ab8de19e97b',\n",
       "              'x': array([datetime.datetime(2021, 8, 31, 4, 0, tzinfo=datetime.timezone.utc),\n",
       "                          datetime.datetime(2021, 9, 1, 4, 0, tzinfo=datetime.timezone.utc),\n",
       "                          datetime.datetime(2021, 9, 2, 4, 0, tzinfo=datetime.timezone.utc), ...,\n",
       "                          datetime.datetime(2024, 8, 28, 4, 0, tzinfo=datetime.timezone.utc),\n",
       "                          datetime.datetime(2024, 8, 29, 4, 0, tzinfo=datetime.timezone.utc),\n",
       "                          datetime.datetime(2024, 8, 30, 4, 0, tzinfo=datetime.timezone.utc)],\n",
       "                         dtype=object),\n",
       "              'y': array([        nan,         nan,         nan, ..., 50.4566152 , 51.96627021,\n",
       "                          55.01878178])}],\n",
       "    'layout': {'height': 350,\n",
       "               'legend': {'orientation': 'h',\n",
       "                          'traceorder': 'normal',\n",
       "                          'x': 1,\n",
       "                          'xanchor': 'right',\n",
       "                          'y': 1.02,\n",
       "                          'yanchor': 'bottom'},\n",
       "               'margin': {'b': 30, 'l': 30, 'r': 30, 't': 30},\n",
       "               'shapes': [{'fillcolor': 'purple',\n",
       "                           'layer': 'below',\n",
       "                           'line': {'width': 0},\n",
       "                           'opacity': 0.2,\n",
       "                           'type': 'rect',\n",
       "                           'x0': Timestamp('2021-08-31 04:00:00+0000', tz='UTC'),\n",
       "                           'x1': Timestamp('2024-08-30 04:00:00+0000', tz='UTC'),\n",
       "                           'xref': 'x',\n",
       "                           'y0': 30,\n",
       "                           'y1': 70,\n",
       "                           'yref': 'y'}],\n",
       "               'template': '...',\n",
       "               'width': 700,\n",
       "               'yaxis': {'range': [-5, 105]}}\n",
       "})"
      ]
     },
     "execution_count": 459,
     "metadata": {},
     "output_type": "execute_result"
    }
   ],
   "execution_count": 459
  },
  {
   "metadata": {
    "ExecuteTime": {
     "end_time": "2024-09-07T02:49:52.719756Z",
     "start_time": "2024-09-07T02:49:52.694174Z"
    }
   },
   "cell_type": "code",
   "source": [
    "rsi = vbt.RSI.run(price, 30)\n",
    "entries = rsi.rsi.map(lambda a : a <= 30)\n",
    "exits = rsi.rsi.map(lambda a : a >= 70)\n",
    "\n",
    "pf = vbt.Portfolio.from_signals(price, entries, exits, init_cash=100)\n",
    "pf.total_profit()"
   ],
   "id": "971f9951f8170910",
   "outputs": [
    {
     "data": {
      "text/plain": [
       "22.51363500603277"
      ]
     },
     "execution_count": 460,
     "metadata": {},
     "output_type": "execute_result"
    }
   ],
   "execution_count": 460
  },
  {
   "metadata": {
    "ExecuteTime": {
     "end_time": "2024-09-07T02:49:52.911252Z",
     "start_time": "2024-09-07T02:49:52.797186Z"
    }
   },
   "cell_type": "code",
   "source": "vbt.STOCH.run(close=prices.Close, high=prices.High, low=prices.Low, k_window=30).plot()",
   "id": "1319fb2a3f68aa07",
   "outputs": [
    {
     "data": {
      "application/vnd.jupyter.widget-view+json": {
       "version_major": 2,
       "version_minor": 0,
       "model_id": "643c8458fdba44be88e075bae8254cd1"
      },
      "text/plain": [
       "FigureWidget({\n",
       "    'data': [{'name': '%K',\n",
       "              'showlegend': True,\n",
       "              'type': 'scatter',\n",
       "              'uid': '8b7ac29a-df63-4ecb-91fc-83093cf881ca',\n",
       "              'x': array([datetime.datetime(2021, 8, 31, 4, 0, tzinfo=datetime.timezone.utc),\n",
       "                          datetime.datetime(2021, 9, 1, 4, 0, tzinfo=datetime.timezone.utc),\n",
       "                          datetime.datetime(2021, 9, 2, 4, 0, tzinfo=datetime.timezone.utc), ...,\n",
       "                          datetime.datetime(2024, 8, 28, 4, 0, tzinfo=datetime.timezone.utc),\n",
       "                          datetime.datetime(2024, 8, 29, 4, 0, tzinfo=datetime.timezone.utc),\n",
       "                          datetime.datetime(2024, 8, 30, 4, 0, tzinfo=datetime.timezone.utc)],\n",
       "                         dtype=object),\n",
       "              'y': array([        nan,         nan,         nan, ..., 89.54141124, 89.63460253,\n",
       "                          99.03575133])},\n",
       "             {'name': '%D',\n",
       "              'showlegend': True,\n",
       "              'type': 'scatter',\n",
       "              'uid': 'c3e0aafb-6fda-425b-b5d7-6e28bce6fdbf',\n",
       "              'x': array([datetime.datetime(2021, 8, 31, 4, 0, tzinfo=datetime.timezone.utc),\n",
       "                          datetime.datetime(2021, 9, 1, 4, 0, tzinfo=datetime.timezone.utc),\n",
       "                          datetime.datetime(2021, 9, 2, 4, 0, tzinfo=datetime.timezone.utc), ...,\n",
       "                          datetime.datetime(2024, 8, 28, 4, 0, tzinfo=datetime.timezone.utc),\n",
       "                          datetime.datetime(2024, 8, 29, 4, 0, tzinfo=datetime.timezone.utc),\n",
       "                          datetime.datetime(2024, 8, 30, 4, 0, tzinfo=datetime.timezone.utc)],\n",
       "                         dtype=object),\n",
       "              'y': array([        nan,         nan,         nan, ..., 92.39967528, 91.59833303,\n",
       "                          92.73725503])}],\n",
       "    'layout': {'height': 350,\n",
       "               'legend': {'orientation': 'h',\n",
       "                          'traceorder': 'normal',\n",
       "                          'x': 1,\n",
       "                          'xanchor': 'right',\n",
       "                          'y': 1.02,\n",
       "                          'yanchor': 'bottom'},\n",
       "               'margin': {'b': 30, 'l': 30, 'r': 30, 't': 30},\n",
       "               'shapes': [{'fillcolor': 'purple',\n",
       "                           'layer': 'below',\n",
       "                           'line': {'width': 0},\n",
       "                           'opacity': 0.2,\n",
       "                           'type': 'rect',\n",
       "                           'x0': Timestamp('2021-08-31 04:00:00+0000', tz='UTC'),\n",
       "                           'x1': Timestamp('2024-08-30 04:00:00+0000', tz='UTC'),\n",
       "                           'xref': 'x',\n",
       "                           'y0': 30,\n",
       "                           'y1': 70,\n",
       "                           'yref': 'y'}],\n",
       "               'template': '...',\n",
       "               'width': 700,\n",
       "               'yaxis': {'range': [-5, 105]}}\n",
       "})"
      ]
     },
     "execution_count": 461,
     "metadata": {},
     "output_type": "execute_result"
    }
   ],
   "execution_count": 461
  },
  {
   "metadata": {
    "ExecuteTime": {
     "end_time": "2024-09-07T02:49:52.981090Z",
     "start_time": "2024-09-07T02:49:52.961162Z"
    }
   },
   "cell_type": "code",
   "source": [
    "stoch = vbt.STOCH.run(close=prices.Close, high=prices.High, low=prices.Low, k_window=30)\n",
    "entries = stoch.percent_k.map(lambda a : a <= 30)\n",
    "exits = stoch.percent_k.map(lambda a : a >= 70)\n",
    "\n",
    "pf = vbt.Portfolio.from_signals(price, entries, exits, init_cash=100)\n",
    "pf.total_profit()"
   ],
   "id": "7f3a933671f026e2",
   "outputs": [
    {
     "data": {
      "text/plain": [
       "15.048606489151496"
      ]
     },
     "execution_count": 462,
     "metadata": {},
     "output_type": "execute_result"
    }
   ],
   "execution_count": 462
  },
  {
   "metadata": {
    "ExecuteTime": {
     "end_time": "2024-09-07T03:00:16.646161Z",
     "start_time": "2024-09-07T03:00:16.619893Z"
    }
   },
   "cell_type": "code",
   "source": [
    "fast_ma = vbt.MA.run(price, 10)\n",
    "slow_ma = vbt.MA.run(price, 50)\n",
    "entries = fast_ma.ma_crossed_above(slow_ma)\n",
    "exits = rsi.rsi.map(lambda a : a >= 70)\n",
    "\n",
    "pf = vbt.Portfolio.from_signals(price, entries, exits, init_cash=100)\n",
    "pf.total_profit()"
   ],
   "id": "385db35d3dd163a6",
   "outputs": [
    {
     "data": {
      "text/plain": [
       "22.529781077092807"
      ]
     },
     "execution_count": 471,
     "metadata": {},
     "output_type": "execute_result"
    }
   ],
   "execution_count": 471
  },
  {
   "metadata": {
    "ExecuteTime": {
     "end_time": "2024-09-07T03:00:18.595834Z",
     "start_time": "2024-09-07T03:00:18.319535Z"
    }
   },
   "cell_type": "code",
   "source": "pf.plot()",
   "id": "46de698e4040251e",
   "outputs": [
    {
     "data": {
      "application/vnd.jupyter.widget-view+json": {
       "version_major": 2,
       "version_minor": 0,
       "model_id": "2e672da51e1147339ae63fcd01d2cb13"
      },
      "text/plain": [
       "FigureWidget({\n",
       "    'data': [{'legendgroup': '0',\n",
       "              'line': {'color': '#1f77b4'},\n",
       "              'name': 'Close',\n",
       "              'showlegend': True,\n",
       "              'type': 'scatter',\n",
       "              'uid': 'aa269e66-876d-4a46-8ef3-a934d5eb6f67',\n",
       "              'x': array([datetime.datetime(2021, 8, 31, 4, 0, tzinfo=datetime.timezone.utc),\n",
       "                          datetime.datetime(2021, 9, 1, 4, 0, tzinfo=datetime.timezone.utc),\n",
       "                          datetime.datetime(2021, 9, 2, 4, 0, tzinfo=datetime.timezone.utc), ...,\n",
       "                          datetime.datetime(2024, 8, 28, 4, 0, tzinfo=datetime.timezone.utc),\n",
       "                          datetime.datetime(2024, 8, 29, 4, 0, tzinfo=datetime.timezone.utc),\n",
       "                          datetime.datetime(2024, 8, 30, 4, 0, tzinfo=datetime.timezone.utc)],\n",
       "                         dtype=object),\n",
       "              'xaxis': 'x',\n",
       "              'y': array([432.0329895 , 432.26260376, 433.59259033, ..., 558.29998779,\n",
       "                          558.34997559, 563.67999268]),\n",
       "              'yaxis': 'y'},\n",
       "             {'customdata': array([[0.        , 0.2286327 , 0.        ],\n",
       "                                   [2.        , 0.26212106, 0.        ],\n",
       "                                   [4.        , 0.25943941, 0.        ],\n",
       "                                   [6.        , 0.22583449, 0.        ],\n",
       "                                   [8.        , 0.21737472, 0.        ]]),\n",
       "              'hovertemplate': ('Order Id: %{customdata[0]}<br>' ... '<br>Fees: %{customdata[2]:.6f}'),\n",
       "              'legendgroup': '1',\n",
       "              'marker': {'color': '#37B13F',\n",
       "                         'line': {'color': 'rgb(38,123,44)', 'width': 1},\n",
       "                         'size': 8,\n",
       "                         'symbol': 'triangle-up'},\n",
       "              'mode': 'markers',\n",
       "              'name': 'Buy',\n",
       "              'type': 'scatter',\n",
       "              'uid': '8a669a76-61a3-4268-aae8-198adfeca27b',\n",
       "              'x': array([datetime.datetime(2022, 3, 25, 4, 0, tzinfo=datetime.timezone.utc),\n",
       "                          datetime.datetime(2022, 11, 3, 4, 0, tzinfo=datetime.timezone.utc),\n",
       "                          datetime.datetime(2023, 9, 8, 4, 0, tzinfo=datetime.timezone.utc),\n",
       "                          datetime.datetime(2024, 5, 13, 4, 0, tzinfo=datetime.timezone.utc),\n",
       "                          datetime.datetime(2024, 8, 21, 4, 0, tzinfo=datetime.timezone.utc)],\n",
       "                         dtype=object),\n",
       "              'xaxis': 'x',\n",
       "              'y': array([437.38275146, 361.49206543, 439.37426758, 519.23486328, 560.61999512]),\n",
       "              'yaxis': 'y'},\n",
       "             {'customdata': array([[1.        , 0.2286327 , 0.        ],\n",
       "                                   [3.        , 0.26212106, 0.        ],\n",
       "                                   [5.        , 0.25943941, 0.        ],\n",
       "                                   [7.        , 0.22583449, 0.        ]]),\n",
       "              'hovertemplate': ('Order Id: %{customdata[0]}<br>' ... '<br>Fees: %{customdata[2]:.6f}'),\n",
       "              'legendgroup': '2',\n",
       "              'marker': {'color': '#EA4335',\n",
       "                         'line': {'color': 'rgb(181,31,18)', 'width': 1},\n",
       "                         'size': 8,\n",
       "                         'symbol': 'triangle-down'},\n",
       "              'mode': 'markers',\n",
       "              'name': 'Sell',\n",
       "              'type': 'scatter',\n",
       "              'uid': 'bbe915c0-f140-49e1-b142-de85e07db112',\n",
       "              'x': array([datetime.datetime(2022, 8, 12, 4, 0, tzinfo=datetime.timezone.utc),\n",
       "                          datetime.datetime(2023, 6, 15, 4, 0, tzinfo=datetime.timezone.utc),\n",
       "                          datetime.datetime(2023, 12, 4, 5, 0, tzinfo=datetime.timezone.utc),\n",
       "                          datetime.datetime(2024, 6, 12, 4, 0, tzinfo=datetime.timezone.utc)],\n",
       "                         dtype=object),\n",
       "              'xaxis': 'x',\n",
       "              'y': array([414.44064331, 434.87921143, 451.97891235, 539.61914062]),\n",
       "              'yaxis': 'y'},\n",
       "             {'customdata': array([[ 1.        ,  1.        , 19.23631659,  0.20301178],\n",
       "                                   [ 2.        ,  2.        ,  3.27014159,  0.02868772],\n",
       "                                   [ 3.        ,  3.        ,  4.60347294,  0.0392583 ]]),\n",
       "              'hovertemplate': ('Exit Trade Id: %{customdata[0]' ... 'r>Return: %{customdata[3]:.2%}'),\n",
       "              'legendgroup': '3',\n",
       "              'marker': {'color': '#37B13F',\n",
       "                         'line': {'color': 'rgb(38,123,44)', 'width': 1},\n",
       "                         'opacity': array([0.9       , 0.76763786, 0.77566398]),\n",
       "                         'size': array([14.        ,  7.82310018,  8.19765217]),\n",
       "                         'symbol': 'circle'},\n",
       "              'mode': 'markers',\n",
       "              'name': 'Closed - Profit',\n",
       "              'type': 'scatter',\n",
       "              'uid': '1029353c-87b5-4314-a45e-4dcff557584c',\n",
       "              'x': array([datetime.datetime(2023, 6, 15, 4, 0, tzinfo=datetime.timezone.utc),\n",
       "                          datetime.datetime(2023, 12, 4, 5, 0, tzinfo=datetime.timezone.utc),\n",
       "                          datetime.datetime(2024, 6, 12, 4, 0, tzinfo=datetime.timezone.utc)],\n",
       "                         dtype=object),\n",
       "              'xaxis': 'x2',\n",
       "              'y': array([0.20301178, 0.02868772, 0.0392583 ]),\n",
       "              'yaxis': 'y2'},\n",
       "             {'customdata': array([[ 0.        ,  0.        , -5.24531616, -0.05245316]]),\n",
       "              'hovertemplate': ('Exit Trade Id: %{customdata[0]' ... 'r>Return: %{customdata[3]:.2%}'),\n",
       "              'legendgroup': '4',\n",
       "              'marker': {'color': '#EA4335',\n",
       "                         'line': {'color': 'rgb(181,31,18)', 'width': 1},\n",
       "                         'opacity': array([0.78568267]),\n",
       "                         'size': array([8.66519146]),\n",
       "                         'symbol': 'circle'},\n",
       "              'mode': 'markers',\n",
       "              'name': 'Closed - Loss',\n",
       "              'type': 'scatter',\n",
       "              'uid': '68ebaa5b-15ae-4f94-b5c5-925c1a143f08',\n",
       "              'x': array([datetime.datetime(2022, 8, 12, 4, 0, tzinfo=datetime.timezone.utc)],\n",
       "                         dtype=object),\n",
       "              'xaxis': 'x2',\n",
       "              'y': array([-0.05245316]),\n",
       "              'yaxis': 'y2'},\n",
       "             {'customdata': array([[4.        , 4.        , 0.66516612, 0.00545824]]),\n",
       "              'hovertemplate': ('Exit Trade Id: %{customdata[0]' ... 'r>Return: %{customdata[3]:.2%}'),\n",
       "              'legendgroup': '5',\n",
       "              'marker': {'color': '#FFAA00',\n",
       "                         'line': {'color': 'rgb(178,118,0)', 'width': 1},\n",
       "                         'opacity': array([0.75]),\n",
       "                         'size': array([7.]),\n",
       "                         'symbol': 'circle'},\n",
       "              'mode': 'markers',\n",
       "              'name': 'Open',\n",
       "              'type': 'scatter',\n",
       "              'uid': '1b7e7036-bdbe-4bf5-965b-3a923be6977b',\n",
       "              'x': array([datetime.datetime(2024, 8, 30, 4, 0, tzinfo=datetime.timezone.utc)],\n",
       "                         dtype=object),\n",
       "              'xaxis': 'x2',\n",
       "              'y': array([0.00545824]),\n",
       "              'yaxis': 'y2'},\n",
       "             {'legendgroup': '6',\n",
       "              'line': {'color': '#7f7f7f'},\n",
       "              'name': 'Benchmark',\n",
       "              'showlegend': True,\n",
       "              'type': 'scatter',\n",
       "              'uid': '144de4e0-f031-42cb-958f-872ed6d00cce',\n",
       "              'x': array([datetime.datetime(2021, 8, 31, 4, 0, tzinfo=datetime.timezone.utc),\n",
       "                          datetime.datetime(2021, 9, 1, 4, 0, tzinfo=datetime.timezone.utc),\n",
       "                          datetime.datetime(2021, 9, 2, 4, 0, tzinfo=datetime.timezone.utc), ...,\n",
       "                          datetime.datetime(2024, 8, 28, 4, 0, tzinfo=datetime.timezone.utc),\n",
       "                          datetime.datetime(2024, 8, 29, 4, 0, tzinfo=datetime.timezone.utc),\n",
       "                          datetime.datetime(2024, 8, 30, 4, 0, tzinfo=datetime.timezone.utc)],\n",
       "                         dtype=object),\n",
       "              'xaxis': 'x3',\n",
       "              'y': array([1.        , 1.00053147, 1.00360991, ..., 1.2922624 , 1.2923781 ,\n",
       "                          1.30471516]),\n",
       "              'yaxis': 'y3'},\n",
       "             {'hoverinfo': 'skip',\n",
       "              'legendgroup': '7',\n",
       "              'line': {'color': 'rgba(0, 0, 0, 0)', 'width': 0},\n",
       "              'opacity': 0,\n",
       "              'showlegend': False,\n",
       "              'type': 'scatter',\n",
       "              'uid': 'dd900ff4-1ad9-4d39-959e-7a1128e3a018',\n",
       "              'x': array([datetime.datetime(2021, 8, 31, 4, 0, tzinfo=datetime.timezone.utc),\n",
       "                          datetime.datetime(2021, 9, 1, 4, 0, tzinfo=datetime.timezone.utc),\n",
       "                          datetime.datetime(2021, 9, 2, 4, 0, tzinfo=datetime.timezone.utc), ...,\n",
       "                          datetime.datetime(2024, 8, 28, 4, 0, tzinfo=datetime.timezone.utc),\n",
       "                          datetime.datetime(2024, 8, 29, 4, 0, tzinfo=datetime.timezone.utc),\n",
       "                          datetime.datetime(2024, 8, 30, 4, 0, tzinfo=datetime.timezone.utc)],\n",
       "                         dtype=object),\n",
       "              'xaxis': 'x3',\n",
       "              'y': array([1, 1, 1, ..., 1, 1, 1]),\n",
       "              'yaxis': 'y3'},\n",
       "             {'connectgaps': False,\n",
       "              'fill': 'tonexty',\n",
       "              'fillcolor': 'rgba(0, 128, 0, 0.3)',\n",
       "              'hoverinfo': 'skip',\n",
       "              'legendgroup': '7',\n",
       "              'line': {'color': 'rgba(0, 0, 0, 0)', 'width': 0},\n",
       "              'opacity': 0,\n",
       "              'showlegend': False,\n",
       "              'type': 'scatter',\n",
       "              'uid': '4b6aa8b6-43ce-412b-b4e9-2ec710e9d470',\n",
       "              'x': array([datetime.datetime(2021, 8, 31, 4, 0, tzinfo=datetime.timezone.utc),\n",
       "                          datetime.datetime(2021, 9, 1, 4, 0, tzinfo=datetime.timezone.utc),\n",
       "                          datetime.datetime(2021, 9, 2, 4, 0, tzinfo=datetime.timezone.utc), ...,\n",
       "                          datetime.datetime(2024, 8, 28, 4, 0, tzinfo=datetime.timezone.utc),\n",
       "                          datetime.datetime(2024, 8, 29, 4, 0, tzinfo=datetime.timezone.utc),\n",
       "                          datetime.datetime(2024, 8, 30, 4, 0, tzinfo=datetime.timezone.utc)],\n",
       "                         dtype=object),\n",
       "              'xaxis': 'x3',\n",
       "              'y': array([1.        , 1.        , 1.        , ..., 1.21360304, 1.2137117 ,\n",
       "                          1.22529781]),\n",
       "              'yaxis': 'y3'},\n",
       "             {'hoverinfo': 'skip',\n",
       "              'legendgroup': '7',\n",
       "              'line': {'color': 'rgba(0, 0, 0, 0)', 'width': 0},\n",
       "              'opacity': 0,\n",
       "              'showlegend': False,\n",
       "              'type': 'scatter',\n",
       "              'uid': 'c5a3bb53-351d-4033-9de6-74d6b0dbae9b',\n",
       "              'x': array([datetime.datetime(2021, 8, 31, 4, 0, tzinfo=datetime.timezone.utc),\n",
       "                          datetime.datetime(2021, 9, 1, 4, 0, tzinfo=datetime.timezone.utc),\n",
       "                          datetime.datetime(2021, 9, 2, 4, 0, tzinfo=datetime.timezone.utc), ...,\n",
       "                          datetime.datetime(2024, 8, 28, 4, 0, tzinfo=datetime.timezone.utc),\n",
       "                          datetime.datetime(2024, 8, 29, 4, 0, tzinfo=datetime.timezone.utc),\n",
       "                          datetime.datetime(2024, 8, 30, 4, 0, tzinfo=datetime.timezone.utc)],\n",
       "                         dtype=object),\n",
       "              'xaxis': 'x3',\n",
       "              'y': array([1, 1, 1, ..., 1, 1, 1]),\n",
       "              'yaxis': 'y3'},\n",
       "             {'connectgaps': False,\n",
       "              'fill': 'tonexty',\n",
       "              'fillcolor': 'rgba(255, 0, 0, 0.3)',\n",
       "              'hoverinfo': 'skip',\n",
       "              'legendgroup': '7',\n",
       "              'line': {'color': 'rgba(0, 0, 0, 0)', 'width': 0},\n",
       "              'opacity': 0,\n",
       "              'showlegend': False,\n",
       "              'type': 'scatter',\n",
       "              'uid': '345e5126-4122-450e-9798-a7989fbdcf39',\n",
       "              'x': array([datetime.datetime(2021, 8, 31, 4, 0, tzinfo=datetime.timezone.utc),\n",
       "                          datetime.datetime(2021, 9, 1, 4, 0, tzinfo=datetime.timezone.utc),\n",
       "                          datetime.datetime(2021, 9, 2, 4, 0, tzinfo=datetime.timezone.utc), ...,\n",
       "                          datetime.datetime(2024, 8, 28, 4, 0, tzinfo=datetime.timezone.utc),\n",
       "                          datetime.datetime(2024, 8, 29, 4, 0, tzinfo=datetime.timezone.utc),\n",
       "                          datetime.datetime(2024, 8, 30, 4, 0, tzinfo=datetime.timezone.utc)],\n",
       "                         dtype=object),\n",
       "              'xaxis': 'x3',\n",
       "              'y': array([1., 1., 1., ..., 1., 1., 1.]),\n",
       "              'yaxis': 'y3'},\n",
       "             {'legendgroup': '8',\n",
       "              'line': {'color': '#9467bd'},\n",
       "              'name': 'Value',\n",
       "              'showlegend': True,\n",
       "              'type': 'scatter',\n",
       "              'uid': '4e68606f-8180-493b-bed2-43be5c458e44',\n",
       "              'x': array([datetime.datetime(2021, 8, 31, 4, 0, tzinfo=datetime.timezone.utc),\n",
       "                          datetime.datetime(2021, 9, 1, 4, 0, tzinfo=datetime.timezone.utc),\n",
       "                          datetime.datetime(2021, 9, 2, 4, 0, tzinfo=datetime.timezone.utc), ...,\n",
       "                          datetime.datetime(2024, 8, 28, 4, 0, tzinfo=datetime.timezone.utc),\n",
       "                          datetime.datetime(2024, 8, 29, 4, 0, tzinfo=datetime.timezone.utc),\n",
       "                          datetime.datetime(2024, 8, 30, 4, 0, tzinfo=datetime.timezone.utc)],\n",
       "                         dtype=object),\n",
       "              'xaxis': 'x3',\n",
       "              'y': array([1.        , 1.        , 1.        , ..., 1.21360304, 1.2137117 ,\n",
       "                          1.22529781]),\n",
       "              'yaxis': 'y3'},\n",
       "             {'hoverinfo': 'skip',\n",
       "              'legendgroup': '7',\n",
       "              'line': {'color': 'rgba(0, 0, 0, 0)', 'width': 0},\n",
       "              'opacity': 0.0,\n",
       "              'showlegend': False,\n",
       "              'type': 'scatter',\n",
       "              'uid': 'a6d606d0-bc5f-4727-9dbb-8228113c9d26',\n",
       "              'x': array([datetime.datetime(2021, 8, 31, 4, 0, tzinfo=datetime.timezone.utc),\n",
       "                          datetime.datetime(2021, 9, 1, 4, 0, tzinfo=datetime.timezone.utc),\n",
       "                          datetime.datetime(2021, 9, 2, 4, 0, tzinfo=datetime.timezone.utc), ...,\n",
       "                          datetime.datetime(2024, 8, 28, 4, 0, tzinfo=datetime.timezone.utc),\n",
       "                          datetime.datetime(2024, 8, 29, 4, 0, tzinfo=datetime.timezone.utc),\n",
       "                          datetime.datetime(2024, 8, 30, 4, 0, tzinfo=datetime.timezone.utc)],\n",
       "                         dtype=object),\n",
       "              'xaxis': 'x3',\n",
       "              'y': array([1, 1, 1, ..., 1, 1, 1]),\n",
       "              'yaxis': 'y3'}],\n",
       "    'layout': {'annotations': [{'font': {'size': 16},\n",
       "                                'showarrow': False,\n",
       "                                'text': 'Orders',\n",
       "                                'x': 0.5,\n",
       "                                'xanchor': 'center',\n",
       "                                'xref': 'paper',\n",
       "                                'y': 1.0,\n",
       "                                'yanchor': 'bottom',\n",
       "                                'yref': 'paper'},\n",
       "                               {'font': {'size': 16},\n",
       "                                'showarrow': False,\n",
       "                                'text': 'Trade PnL',\n",
       "                                'x': 0.5,\n",
       "                                'xanchor': 'center',\n",
       "                                'xref': 'paper',\n",
       "                                'y': 0.6527777777777777,\n",
       "                                'yanchor': 'bottom',\n",
       "                                'yref': 'paper'},\n",
       "                               {'font': {'size': 16},\n",
       "                                'showarrow': False,\n",
       "                                'text': 'Cumulative Returns',\n",
       "                                'x': 0.5,\n",
       "                                'xanchor': 'center',\n",
       "                                'xref': 'paper',\n",
       "                                'y': 0.3055555555555555,\n",
       "                                'yanchor': 'bottom',\n",
       "                                'yref': 'paper'}],\n",
       "               'height': 960,\n",
       "               'legend': {'orientation': 'h',\n",
       "                          'traceorder': 'normal',\n",
       "                          'x': 1,\n",
       "                          'xanchor': 'right',\n",
       "                          'y': 1.0416666666666667,\n",
       "                          'yanchor': 'bottom'},\n",
       "               'margin': {'b': 30, 'l': 30, 'r': 30, 't': 30},\n",
       "               'shapes': [{'line': {'color': 'gray', 'dash': 'dash'},\n",
       "                           'type': 'line',\n",
       "                           'x0': 0.0,\n",
       "                           'x1': 1.0,\n",
       "                           'xref': 'paper',\n",
       "                           'y0': 0,\n",
       "                           'y1': 0,\n",
       "                           'yref': 'y2'},\n",
       "                          {'line': {'color': 'gray', 'dash': 'dash'},\n",
       "                           'type': 'line',\n",
       "                           'x0': 0.0,\n",
       "                           'x1': 1.0,\n",
       "                           'xref': 'paper',\n",
       "                           'y0': 1,\n",
       "                           'y1': 1,\n",
       "                           'yref': 'y3'}],\n",
       "               'showlegend': True,\n",
       "               'template': '...',\n",
       "               'width': 750,\n",
       "               'xaxis': {'anchor': 'y', 'domain': [0.0, 1.0], 'matches': 'x3', 'showticklabels': False},\n",
       "               'xaxis2': {'anchor': 'y2', 'domain': [0.0, 1.0], 'matches': 'x3', 'showticklabels': False},\n",
       "               'xaxis3': {'anchor': 'y3', 'domain': [0.0, 1.0], 'title': {'text': 'Index'}},\n",
       "               'yaxis': {'anchor': 'x', 'domain': [0.6944444444444444, 1.0], 'title': {'text': 'Price'}},\n",
       "               'yaxis2': {'anchor': 'x2',\n",
       "                          'domain': [0.3472222222222222, 0.6527777777777777],\n",
       "                          'tickformat': '.2%',\n",
       "                          'title': {'text': 'Trade PnL'}},\n",
       "               'yaxis3': {'anchor': 'x3', 'domain': [0.0, 0.3055555555555555], 'title': {'text': 'Cumulative returns'}}}\n",
       "})"
      ]
     },
     "execution_count": 472,
     "metadata": {},
     "output_type": "execute_result"
    }
   ],
   "execution_count": 472
  }
 ],
 "metadata": {
  "kernelspec": {
   "display_name": "Python 3",
   "language": "python",
   "name": "python3"
  },
  "language_info": {
   "codemirror_mode": {
    "name": "ipython",
    "version": 2
   },
   "file_extension": ".py",
   "mimetype": "text/x-python",
   "name": "python",
   "nbconvert_exporter": "python",
   "pygments_lexer": "ipython2",
   "version": "2.7.6"
  }
 },
 "nbformat": 4,
 "nbformat_minor": 5
}
